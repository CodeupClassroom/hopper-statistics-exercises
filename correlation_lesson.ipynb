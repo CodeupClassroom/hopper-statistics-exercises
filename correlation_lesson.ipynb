{
 "cells": [
  {
   "cell_type": "markdown",
   "id": "cb81d4b9",
   "metadata": {},
   "source": [
    "# Correlation\n",
    "\n",
    "Correlation tests are used to check if two samples are related. They are often used for feature selection and multivariate analysis in data preprocessing and exploration.\n",
    "\n",
    "## Pearson's Correlation Coefficient\n",
    "\n",
    "The goal of this test is to answer the question: do two samples have a linear relationship?\n",
    "\n",
    "To answer this question, we will take the following steps:\n",
    "\n",
    "1. Calculate the Pearson correlation coefficient \n",
    "1. Calculate the corresponding t-values\n",
    "1. Test whether the t-values are significant or not\n"
   ]
  },
  {
   "cell_type": "code",
   "execution_count": null,
   "id": "216aa0e2",
   "metadata": {},
   "outputs": [],
   "source": [
    "import pandas as pd\n",
    "import numpy as np\n",
    "import matplotlib.pyplot as plt\n",
    "import seaborn as sns\n",
    "\n",
    "from math import sqrt\n",
    "\n",
    "from scipy import stats\n",
    "from pydataset import data\n",
    "\n",
    "url = \"https://gist.githubusercontent.com/ryanorsinger/2c13a71421037af127e9fa7fa1463cad/raw/3eb443414078b51af33fdb2d211159e5f3e220ab/exam_scores.csv\"\n",
    "df = pd.read_csv(url)\n",
    "\n",
    "df.head(3)"
   ]
  },
  {
   "cell_type": "code",
   "execution_count": null,
   "id": "63b1b998",
   "metadata": {},
   "outputs": [],
   "source": [
    "sns.pairplot(df, corner=True)\n",
    "plt.suptitle(\"sns.pairplot visualizes continuous variable relationships\")\n",
    "plt.show()"
   ]
  },
  {
   "cell_type": "markdown",
   "id": "d6c22e43",
   "metadata": {},
   "source": [
    "## Pre-set Values\n",
    "\n",
    "Before we perform the test, we will choose some values for our confidence interval and, based on that value, our alpha."
   ]
  },
  {
   "cell_type": "code",
   "execution_count": null,
   "id": "f801beeb",
   "metadata": {},
   "outputs": [],
   "source": [
    "n = df.shape[0]     # number of observations\n",
    "degf = n - 2        # degrees of freedom: the # of values in the final calculation of a statistic that are free to vary.\n",
    "conf_interval = .95 # desired confidence interval\n",
    "alpha = 1 - conf_interval"
   ]
  },
  {
   "cell_type": "markdown",
   "id": "c4d17f3e",
   "metadata": {},
   "source": [
    "When performing a correlation test, our null hypothesis is that there is no linear correlation between the two variables.\n",
    "\n",
    "> H<sub>0</sub>: There is no linear correlation between the number of hours studied and the score on the exam.\n",
    "\n",
    "> H<sub>a</sub>: There is a linear relationship between the number of hours studied and the score on the exam."
   ]
  },
  {
   "cell_type": "markdown",
   "id": "f1d9ad34",
   "metadata": {},
   "source": [
    "## Calculate Pearson's Correlation Coefficient\n",
    "\n",
    "The correlation coefficient, **r<sub>xy</sub>** is a unitless continuous numerical measure between -1 and 1, where:\n",
    "\n",
    "    1 = perfect correlation \n",
    "\n",
    "and\n",
    "\n",
    "    -1 = perfect negative correlation.\n",
    "\n",
    "We will calculate the correlation between hours studied and exam score."
   ]
  },
  {
   "cell_type": "code",
   "execution_count": null,
   "id": "612e6392",
   "metadata": {},
   "outputs": [],
   "source": [
    "x = df.hours_studied\n",
    "y = df.exam_score\n",
    "\n",
    "def stdev(x):\n",
    "    variance = ((x - x.mean()) ** 2).sum() / n\n",
    "    return sqrt(variance)\n",
    "\n",
    "r_xy = (((x - x.mean()) * (y - y.mean())).sum() / (n)) / (stdev(x) * stdev(y))\n",
    "r_xy"
   ]
  },
  {
   "cell_type": "markdown",
   "id": "a815dd91",
   "metadata": {},
   "source": [
    "But how is this number really dervied? Let's simplify our dataframe by looking only at the two variables we are interested in, and we will rename them to `x` and `y`"
   ]
  },
  {
   "cell_type": "code",
   "execution_count": null,
   "id": "7dfb744d",
   "metadata": {},
   "outputs": [],
   "source": [
    "example = df[['exam_score', 'hours_studied']].rename(columns={'exam_score':'x', 'hours_studied':'y'})\n",
    "example.head()"
   ]
  },
  {
   "cell_type": "markdown",
   "id": "4043c2bc",
   "metadata": {},
   "source": [
    "Because these two variables are quite different in their range, we need to compare each row to the mean for each variable. This will allow us to get a better sense of the movement between these variables from one observation to the next relative to their own means. "
   ]
  },
  {
   "cell_type": "code",
   "execution_count": null,
   "id": "914ffe64",
   "metadata": {},
   "outputs": [],
   "source": [
    "# Calculate the means\n",
    "x_mean = example.x.mean()\n",
    "y_mean = example.y.mean()\n",
    "print(x_mean, y_mean)"
   ]
  },
  {
   "cell_type": "markdown",
   "id": "f1675c48",
   "metadata": {},
   "source": [
    "Now we can add a column showing the difference between each observation and its mean for each variable"
   ]
  },
  {
   "cell_type": "code",
   "execution_count": null,
   "id": "674015e7",
   "metadata": {},
   "outputs": [],
   "source": [
    "example['x-x_mean'] = example.x - x_mean\n",
    "example['y-y_mean'] = example.y - y_mean\n",
    "example.head()"
   ]
  },
  {
   "cell_type": "markdown",
   "id": "f4953342",
   "metadata": {},
   "source": [
    "By multiplying these last two columns together, we can see a hit at the covariance of these variables. When the movements were in the same direction, the final column is positive. When the movements were in opposite directions, the final column was negative. "
   ]
  },
  {
   "cell_type": "code",
   "execution_count": null,
   "id": "152c477f",
   "metadata": {},
   "outputs": [],
   "source": [
    "example['x-x_mean*y-y_mean'] = example['x-x_mean'] * example['y-y_mean']\n",
    "example.head()"
   ]
  },
  {
   "cell_type": "markdown",
   "id": "eddc3e6c",
   "metadata": {},
   "source": [
    "We can sum the final column to see the total effect of all these observations"
   ]
  },
  {
   "cell_type": "code",
   "execution_count": null,
   "id": "9e7f631e",
   "metadata": {},
   "outputs": [],
   "source": [
    "sum_product = sum(example['x-x_mean*y-y_mean'])\n",
    "print(sum_product)"
   ]
  },
  {
   "cell_type": "markdown",
   "id": "9f09b4d4",
   "metadata": {},
   "source": [
    "Now we can get a sense of the average per observation."
   ]
  },
  {
   "cell_type": "code",
   "execution_count": null,
   "id": "757fd120",
   "metadata": {},
   "outputs": [],
   "source": [
    "cov_x_y = sum_product/(example.shape[0])\n",
    "print(cov_x_y)"
   ]
  },
  {
   "cell_type": "markdown",
   "id": "6001368d",
   "metadata": {},
   "source": [
    "Great! We can see that there is a positive relationship, but its kind of hard to tell what the magnitude of that relationship is. We can use our covariance and our standard deviations to find the pearsons r, which has the nice limits of -1 and 1. \n",
    "\n",
    "To find pearson's r, we simply divide the covariance by the product of the standard deviations of x and y."
   ]
  },
  {
   "cell_type": "code",
   "execution_count": null,
   "id": "920a1cb1",
   "metadata": {},
   "outputs": [],
   "source": [
    "corr = cov_x_y / (stdev(example.x) * stdev(example.y))\n",
    "print(corr)"
   ]
  },
  {
   "cell_type": "code",
   "execution_count": null,
   "id": "41c57d8d",
   "metadata": {},
   "outputs": [],
   "source": [
    "plt.scatter(df.hours_studied, df.exam_score)\n",
    "plt.title('The More You Study, The Higher Your Score')\n",
    "plt.xlabel('Hours Studied')\n",
    "plt.ylabel('Exam Score')\n",
    "plt.show()"
   ]
  },
  {
   "cell_type": "markdown",
   "id": "ef552d3c",
   "metadata": {},
   "source": [
    "## Calculate the corresponding p-value\n",
    "\n",
    "We can calculate a t-statistic for our correlation coefficient in order to inform us how likely it is that we observed this result due to chance. We will then use this t-statistic to find our p-value.\n",
    "\n",
    "The t-value can be positive for positive correlations and negative for negative correlations, and is given by:"
   ]
  },
  {
   "cell_type": "code",
   "execution_count": null,
   "id": "1dade5c2",
   "metadata": {},
   "outputs": [],
   "source": [
    "t = (r_xy * sqrt(n - 2)) / sqrt(1 - r_xy**2)\n",
    "t"
   ]
  },
  {
   "cell_type": "markdown",
   "id": "26d2fe12",
   "metadata": {},
   "source": [
    "Once we have our t-statistic, we can find our p-value by looking up the t-statistic in a t-table, or by using scipy's t distribution:"
   ]
  },
  {
   "cell_type": "code",
   "execution_count": null,
   "id": "335cba23",
   "metadata": {},
   "outputs": [],
   "source": [
    "p = stats.t.sf(t, df=degf) * 2 # *2 for a two-tailed test\n",
    "p"
   ]
  },
  {
   "cell_type": "markdown",
   "id": "a0f6a1e7",
   "metadata": {},
   "source": [
    "Lastly, we compare our p value to our alpha that we selected earlier"
   ]
  },
  {
   "cell_type": "code",
   "execution_count": null,
   "id": "26bc75c8",
   "metadata": {},
   "outputs": [],
   "source": [
    "p < alpha"
   ]
  },
  {
   "cell_type": "markdown",
   "id": "52dcd833",
   "metadata": {},
   "source": [
    "Since p is less than alpha, we reject our null hypothesis that there is no linear correlation between the number of hours studied and exam score."
   ]
  },
  {
   "cell_type": "markdown",
   "id": "3861aa1b",
   "metadata": {},
   "source": [
    "## The Easy Way\n",
    "\n",
    "All of the work that we did above is also provided by scipy's `stats` module in it's `pearsonr` function."
   ]
  },
  {
   "cell_type": "code",
   "execution_count": null,
   "id": "2a79e347",
   "metadata": {},
   "outputs": [],
   "source": [
    "corr, p = stats.pearsonr(x, y)\n",
    "corr, p"
   ]
  },
  {
   "cell_type": "markdown",
   "id": "8edb4bce",
   "metadata": {},
   "source": [
    "## Correlation Gotchas\n",
    "\n",
    "When working with correlation, keep in mind:\n",
    "\n",
    "1. Correlation is not causality.\n",
    "1. Correlation measures linear relationship between the 2 variables. However, there may be other types of relationships, such as a quadratic or absolute value relationship.\n",
    "1. Correlations can be misleading when confounding variables are ignored.\n",
    "1. Correlation tells you nothing about how large the relationship is."
   ]
  },
  {
   "cell_type": "markdown",
   "id": "33a89b9c",
   "metadata": {},
   "source": [
    "### Correlation is Not Causation\n",
    "\n",
    "Correlation means that two variables are associated, but doesn't tell us whether one causes the other or not."
   ]
  },
  {
   "cell_type": "markdown",
   "id": "24528a7a",
   "metadata": {},
   "source": [
    "### Non-Linear Relationship\n",
    "Here we'll look at an example of a non-linear relationship:"
   ]
  },
  {
   "cell_type": "code",
   "execution_count": null,
   "id": "f37f8c1c",
   "metadata": {},
   "outputs": [],
   "source": [
    "x = np.linspace(-3, 3)\n",
    "y = x ** 2\n",
    "plt.scatter(x, y, s=10, c='firebrick', alpha=.8)"
   ]
  },
  {
   "cell_type": "markdown",
   "id": "6fa44317",
   "metadata": {},
   "source": [
    "We see that there is clearly a direct relationship between x and y, however it is not a linear relationship, so a correlation test will not give us significant results."
   ]
  },
  {
   "cell_type": "code",
   "execution_count": null,
   "id": "91a7a92f",
   "metadata": {},
   "outputs": [],
   "source": [
    "r, p = stats.pearsonr(x, y)\n",
    "print(f'r = {r:.5f}')\n",
    "print(f'p = {p:.1f}')"
   ]
  },
  {
   "cell_type": "markdown",
   "id": "f440549c",
   "metadata": {},
   "source": [
    "### Confounding Variables\n",
    "We must be careful because correlation doesn't tell the whole story of a dataset. That is, correlation just looks at two variables in isolation, and doesn't account for any others. For example, a certain subgroup could have a strong correlation while another does not, or a third variable could be influencing both of the variables.\n",
    "\n",
    "In our exam score data, if we look at coffee consumption and exam score, we see that they are strongly negatively correlated:"
   ]
  },
  {
   "cell_type": "code",
   "execution_count": null,
   "id": "351eb3ea",
   "metadata": {},
   "outputs": [],
   "source": [
    "r, p = stats.pearsonr(df.coffee_consumed, df.exam_score)\n",
    "\n",
    "df.plot.scatter('coffee_consumed', 'exam_score')\n",
    "plt.title('Exam Score vs # Cups of Coffee')\n",
    "plt.text(8, 80, f'r = {r:.3f}')"
   ]
  },
  {
   "cell_type": "markdown",
   "id": "e52ce4d5",
   "metadata": {},
   "source": [
    "However, it is probably the case that a third variable here has more influence, the number of hours that each student slept before the exam. We know that getting a good night's sleep improves exam scores, and if you don't get a good night's sleep, you are probably likely to drink more coffee."
   ]
  },
  {
   "cell_type": "code",
   "execution_count": null,
   "id": "dbdcefd9",
   "metadata": {},
   "outputs": [],
   "source": [
    "r_sleep_coffee, _ = stats.pearsonr(df.hours_slept, df.coffee_consumed)\n",
    "r_sleep_score, _ = stats.pearsonr(df.hours_slept, df.exam_score)\n",
    "\n",
    "print('Correlation between hours slept and coffee consumed')\n",
    "print(f'  r = {r_sleep_coffee:.3f}')\n",
    "print('Correlation between hours slept and exam score')\n",
    "print(f'  r = {r_sleep_score:.3f}')"
   ]
  },
  {
   "cell_type": "markdown",
   "id": "c7e76d50",
   "metadata": {},
   "source": [
    "### Scale of the Relationship\n",
    "The correlation coefficient shows us how linearly correlated two variables are, but doesn't tell us the scale. That is one variable could increase/decrease in lock step with another, but the size of the change could be tiny.\n",
    "\n",
    "Imagine our data was a little different and we tracked several student's coffee intake before an exam. The coffee consumption could be perfectly correlated with exam score, but to such a small amount that it doesn't matter."
   ]
  },
  {
   "cell_type": "code",
   "execution_count": null,
   "id": "ffcf9806",
   "metadata": {},
   "outputs": [],
   "source": [
    "cups_of_coffee = [0, 1, 2, 3, 4]\n",
    "exam_score = [80, 80.1, 80.2, 80.3, 80.4]\n",
    "r, p = stats.pearsonr(cups_of_coffee, exam_score)\n",
    "\n",
    "plt.plot(cups_of_coffee, exam_score)\n",
    "plt.title('Exam Score vs Coffee Consumption')\n",
    "plt.ylim(0, 100)\n",
    "plt.xticks(range(5))\n",
    "plt.xlabel('Coffee Consumed (cups)')\n",
    "plt.ylabel('Exam Score')\n",
    "\n",
    "plt.text(1, 70, f'r = {r:.2f}')\n",
    "plt.text(1, 63, f'p = {p:e}')"
   ]
  },
  {
   "cell_type": "markdown",
   "id": "33d1c92e",
   "metadata": {},
   "source": [
    "## What about non-linear correlations between variables?\n",
    "Use Spearman's R, https://docs.scipy.org/doc/scipy/reference/generated/scipy.stats.spearmanr.html for a nonparametric test of linearity, as long as we have monotonicity (as one variable increases, the other variable never decreases and vice versa)."
   ]
  },
  {
   "cell_type": "code",
   "execution_count": null,
   "id": "dbedb9ad",
   "metadata": {},
   "outputs": [],
   "source": []
  }
 ],
 "metadata": {
  "kernelspec": {
   "display_name": "Python 3",
   "language": "python",
   "name": "python3"
  },
  "language_info": {
   "codemirror_mode": {
    "name": "ipython",
    "version": 3
   },
   "file_extension": ".py",
   "mimetype": "text/x-python",
   "name": "python",
   "nbconvert_exporter": "python",
   "pygments_lexer": "ipython3",
   "version": "3.8.8"
  }
 },
 "nbformat": 4,
 "nbformat_minor": 5
}
