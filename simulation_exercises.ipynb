{
 "cells": [
  {
   "cell_type": "markdown",
   "id": "japanese-services",
   "metadata": {},
   "source": [
    "# Simulation Exercises"
   ]
  },
  {
   "cell_type": "markdown",
   "id": "meaningful-palmer",
   "metadata": {},
   "source": [
    "## Stratagy \n",
    "\n",
    "* Create a Dataframe the represents a study of the given scenario\n",
    "* Each row in the Dataframe will repesent one trial in the study\n",
    "* Each value in the data frame represents a randomly generated output based on the probability stated in the scenario\n",
    "* Once the Dataframe is created we will check each row (or trial) to see if produced the tested for result\n",
    "* Based on the number of rows (trials) that did and did not produce the tested for result we will calculate an overall probability of the tested for event"
   ]
  },
  {
   "cell_type": "markdown",
   "id": "compound-brass",
   "metadata": {},
   "source": [
    "## Imports"
   ]
  },
  {
   "cell_type": "code",
   "execution_count": 1,
   "id": "possible-ethnic",
   "metadata": {},
   "outputs": [],
   "source": [
    "import numpy as np\n",
    "import pandas as pd\n",
    "import random"
   ]
  },
  {
   "cell_type": "markdown",
   "id": "brilliant-lighter",
   "metadata": {},
   "source": [
    "### 1) How likely is it that you roll doubles when rolling two dice?"
   ]
  },
  {
   "cell_type": "code",
   "execution_count": 2,
   "id": "systematic-heading",
   "metadata": {},
   "outputs": [],
   "source": [
    "# set number of trials and events per trial\n",
    "\n",
    "nrows = 100_000 # number of trials\n",
    "ncols = 2       # number of random events in each trial"
   ]
  },
  {
   "cell_type": "code",
   "execution_count": 3,
   "id": "under-zealand",
   "metadata": {},
   "outputs": [
    {
     "data": {
      "text/plain": [
       "array([5, 2, 6, ..., 5, 4, 1])"
      ]
     },
     "execution_count": 3,
     "metadata": {},
     "output_type": "execute_result"
    }
   ],
   "source": [
    "# generate an array of randomly generated numbers from 1-6 equal to the number of rows times the number of columns\n",
    "# to generate all of the values for the study\n",
    "np.random.choice([1, 2, 3, 4, 5, 6], nrows * ncols)"
   ]
  },
  {
   "cell_type": "code",
   "execution_count": 4,
   "id": "discrete-relationship",
   "metadata": {},
   "outputs": [
    {
     "data": {
      "text/plain": [
       "array([[4, 3],\n",
       "       [4, 1],\n",
       "       [2, 4],\n",
       "       ...,\n",
       "       [6, 2],\n",
       "       [1, 4],\n",
       "       [5, 2]])"
      ]
     },
     "execution_count": 4,
     "metadata": {},
     "output_type": "execute_result"
    }
   ],
   "source": [
    "# add .reshape to reshape the array by the number of rows and number of columns to create trial groups\n",
    "rolls = np.random.choice([1, 2, 3, 4, 5, 6], nrows * ncols).reshape(nrows, ncols)\n",
    "rolls"
   ]
  },
  {
   "cell_type": "code",
   "execution_count": 5,
   "id": "victorian-production",
   "metadata": {
    "scrolled": true
   },
   "outputs": [
    {
     "data": {
      "text/html": [
       "<div>\n",
       "<style scoped>\n",
       "    .dataframe tbody tr th:only-of-type {\n",
       "        vertical-align: middle;\n",
       "    }\n",
       "\n",
       "    .dataframe tbody tr th {\n",
       "        vertical-align: top;\n",
       "    }\n",
       "\n",
       "    .dataframe thead th {\n",
       "        text-align: right;\n",
       "    }\n",
       "</style>\n",
       "<table border=\"1\" class=\"dataframe\">\n",
       "  <thead>\n",
       "    <tr style=\"text-align: right;\">\n",
       "      <th></th>\n",
       "      <th>0</th>\n",
       "      <th>1</th>\n",
       "    </tr>\n",
       "  </thead>\n",
       "  <tbody>\n",
       "    <tr>\n",
       "      <th>0</th>\n",
       "      <td>4</td>\n",
       "      <td>3</td>\n",
       "    </tr>\n",
       "    <tr>\n",
       "      <th>1</th>\n",
       "      <td>4</td>\n",
       "      <td>1</td>\n",
       "    </tr>\n",
       "    <tr>\n",
       "      <th>2</th>\n",
       "      <td>2</td>\n",
       "      <td>4</td>\n",
       "    </tr>\n",
       "    <tr>\n",
       "      <th>3</th>\n",
       "      <td>2</td>\n",
       "      <td>1</td>\n",
       "    </tr>\n",
       "    <tr>\n",
       "      <th>4</th>\n",
       "      <td>6</td>\n",
       "      <td>1</td>\n",
       "    </tr>\n",
       "  </tbody>\n",
       "</table>\n",
       "</div>"
      ],
      "text/plain": [
       "   0  1\n",
       "0  4  3\n",
       "1  4  1\n",
       "2  2  4\n",
       "3  2  1\n",
       "4  6  1"
      ]
     },
     "execution_count": 5,
     "metadata": {},
     "output_type": "execute_result"
    }
   ],
   "source": [
    "# convert to data frame\n",
    "df = pd.DataFrame(rolls)\n",
    "df.head()"
   ]
  },
  {
   "cell_type": "code",
   "execution_count": 6,
   "id": "casual-developer",
   "metadata": {},
   "outputs": [
    {
     "data": {
      "text/plain": [
       "0        False\n",
       "1        False\n",
       "2        False\n",
       "3        False\n",
       "4        False\n",
       "         ...  \n",
       "99995    False\n",
       "99996    False\n",
       "99997    False\n",
       "99998    False\n",
       "99999    False\n",
       "Length: 100000, dtype: bool"
      ]
     },
     "execution_count": 6,
     "metadata": {},
     "output_type": "execute_result"
    }
   ],
   "source": [
    "# add .apply create an array that checks weather each row contains matching numbers\n",
    "df.apply(lambda row: row[0] == row[1], axis=1)"
   ]
  },
  {
   "cell_type": "code",
   "execution_count": 7,
   "id": "passing-butterfly",
   "metadata": {},
   "outputs": [
    {
     "data": {
      "text/plain": [
       "0.16556"
      ]
     },
     "execution_count": 7,
     "metadata": {},
     "output_type": "execute_result"
    }
   ],
   "source": [
    "# add .mean to get the mean of that array to get the odds of rolling doubles on two six sided dice\n",
    "df.apply(lambda row: row.values[0] == row.values[1], axis=1).mean()"
   ]
  },
  {
   "cell_type": "code",
   "execution_count": 8,
   "id": "answering-clear",
   "metadata": {},
   "outputs": [
    {
     "name": "stdout",
     "output_type": "stream",
     "text": [
      "The odds of rolling doubles on two fair 6 sided dice are 17%\n"
     ]
    }
   ],
   "source": [
    "# All together\n",
    "nrows = 100_000 # set nrows to number of simulations\n",
    "ncols = 2       # set ncolumns to number of dice rolled in each simulation\n",
    "\n",
    "# create an array of values that represent rollong a six sided dice\n",
    "# reshape the array into trial groups of 2\n",
    "rolls = np.random.choice([1, 2, 3, 4, 5, 6], nrows * ncols).reshape(nrows, ncols) \n",
    "\n",
    "# convert the array to a dataframe\n",
    "df = pd.DataFrame(rolls)\n",
    "\n",
    "# create an array that returns true if the numbers in each row are equal\n",
    "# then take the mean of that array to find the total odds of rolling doubles\n",
    "odds_of_doubles = df.apply(lambda row: row.values[0] == row.values[1], axis=1).mean()\n",
    "\n",
    "# print result\n",
    "print(f'The odds of rolling doubles on two fair 6 sided dice are {round(odds_of_doubles*100)}%')"
   ]
  },
  {
   "cell_type": "markdown",
   "id": "center-accordance",
   "metadata": {},
   "source": [
    "### 2) If you flip 8 coins, what is the probability of getting exactly 3 heads? What is the probability of getting more than 3 heads?"
   ]
  },
  {
   "cell_type": "code",
   "execution_count": 9,
   "id": "lasting-promotion",
   "metadata": {},
   "outputs": [
    {
     "data": {
      "text/html": [
       "<div>\n",
       "<style scoped>\n",
       "    .dataframe tbody tr th:only-of-type {\n",
       "        vertical-align: middle;\n",
       "    }\n",
       "\n",
       "    .dataframe tbody tr th {\n",
       "        vertical-align: top;\n",
       "    }\n",
       "\n",
       "    .dataframe thead th {\n",
       "        text-align: right;\n",
       "    }\n",
       "</style>\n",
       "<table border=\"1\" class=\"dataframe\">\n",
       "  <thead>\n",
       "    <tr style=\"text-align: right;\">\n",
       "      <th></th>\n",
       "      <th>0</th>\n",
       "      <th>1</th>\n",
       "      <th>2</th>\n",
       "      <th>3</th>\n",
       "      <th>4</th>\n",
       "      <th>5</th>\n",
       "      <th>6</th>\n",
       "      <th>7</th>\n",
       "    </tr>\n",
       "  </thead>\n",
       "  <tbody>\n",
       "    <tr>\n",
       "      <th>0</th>\n",
       "      <td>True</td>\n",
       "      <td>True</td>\n",
       "      <td>False</td>\n",
       "      <td>False</td>\n",
       "      <td>False</td>\n",
       "      <td>False</td>\n",
       "      <td>False</td>\n",
       "      <td>True</td>\n",
       "    </tr>\n",
       "    <tr>\n",
       "      <th>1</th>\n",
       "      <td>True</td>\n",
       "      <td>True</td>\n",
       "      <td>True</td>\n",
       "      <td>False</td>\n",
       "      <td>True</td>\n",
       "      <td>True</td>\n",
       "      <td>True</td>\n",
       "      <td>False</td>\n",
       "    </tr>\n",
       "    <tr>\n",
       "      <th>2</th>\n",
       "      <td>False</td>\n",
       "      <td>True</td>\n",
       "      <td>True</td>\n",
       "      <td>True</td>\n",
       "      <td>False</td>\n",
       "      <td>True</td>\n",
       "      <td>True</td>\n",
       "      <td>False</td>\n",
       "    </tr>\n",
       "    <tr>\n",
       "      <th>3</th>\n",
       "      <td>True</td>\n",
       "      <td>False</td>\n",
       "      <td>True</td>\n",
       "      <td>True</td>\n",
       "      <td>False</td>\n",
       "      <td>False</td>\n",
       "      <td>False</td>\n",
       "      <td>False</td>\n",
       "    </tr>\n",
       "    <tr>\n",
       "      <th>4</th>\n",
       "      <td>True</td>\n",
       "      <td>True</td>\n",
       "      <td>False</td>\n",
       "      <td>True</td>\n",
       "      <td>True</td>\n",
       "      <td>True</td>\n",
       "      <td>False</td>\n",
       "      <td>False</td>\n",
       "    </tr>\n",
       "  </tbody>\n",
       "</table>\n",
       "</div>"
      ],
      "text/plain": [
       "       0      1      2      3      4      5      6      7\n",
       "0   True   True  False  False  False  False  False   True\n",
       "1   True   True   True  False   True   True   True  False\n",
       "2  False   True   True   True  False   True   True  False\n",
       "3   True  False   True   True  False  False  False  False\n",
       "4   True   True  False   True   True   True  False  False"
      ]
     },
     "execution_count": 9,
     "metadata": {},
     "output_type": "execute_result"
    }
   ],
   "source": [
    "nrows = 100_000 # set rows to number of simulations\n",
    "ncols = 8       # set columns to number of random events in each simulation\n",
    "\n",
    "# create an array of True/False values that represent coin flips True = Heads\n",
    "# reshape the array into trial groups of 8\n",
    "rolls = np.random.choice([True, False], nrows * ncols).reshape(nrows, ncols)\n",
    "\n",
    "# create a dataframe from the array\n",
    "df = pd.DataFrame(rolls)\n",
    "df.head()"
   ]
  },
  {
   "cell_type": "code",
   "execution_count": 10,
   "id": "charitable-grace",
   "metadata": {},
   "outputs": [
    {
     "name": "stdout",
     "output_type": "stream",
     "text": [
      "The odds of getting exactly three heads when flipping five coins is 22%\n",
      "The odds of gettng three or more heads when flipping five coins is 86%\n"
     ]
    }
   ],
   "source": [
    "# create an array that checks weather the sum of each row contains the desiered number of heads\n",
    "# then take the mean of that array to find the total odds of flipping the desiered number of heads\n",
    "three_heads = df.apply(lambda row: row.values.sum() == 3, axis=1).mean()\n",
    "more_than_three_heads = df.apply(lambda row: row.values.sum() >= 3, axis=1).mean()\n",
    "\n",
    "# print result\n",
    "print(f'The odds of getting exactly three heads when flipping five coins is {round(three_heads*100)}%')\n",
    "print(f'The odds of gettng three or more heads when flipping five coins is {round(more_than_three_heads*100)}%')"
   ]
  },
  {
   "cell_type": "markdown",
   "id": "continued-speaker",
   "metadata": {},
   "source": [
    "### 3) There are approximitely 3 web development cohorts for every 1 data science cohort at Codeup. Assuming that Codeup randomly selects an alumni to put on a billboard, what are the odds that the two billboards I drive past both have data science students on them?"
   ]
  },
  {
   "cell_type": "code",
   "execution_count": 11,
   "id": "female-poland",
   "metadata": {},
   "outputs": [
    {
     "data": {
      "text/html": [
       "<div>\n",
       "<style scoped>\n",
       "    .dataframe tbody tr th:only-of-type {\n",
       "        vertical-align: middle;\n",
       "    }\n",
       "\n",
       "    .dataframe tbody tr th {\n",
       "        vertical-align: top;\n",
       "    }\n",
       "\n",
       "    .dataframe thead th {\n",
       "        text-align: right;\n",
       "    }\n",
       "</style>\n",
       "<table border=\"1\" class=\"dataframe\">\n",
       "  <thead>\n",
       "    <tr style=\"text-align: right;\">\n",
       "      <th></th>\n",
       "      <th>0</th>\n",
       "      <th>1</th>\n",
       "    </tr>\n",
       "  </thead>\n",
       "  <tbody>\n",
       "    <tr>\n",
       "      <th>0</th>\n",
       "      <td>DS</td>\n",
       "      <td>WEB</td>\n",
       "    </tr>\n",
       "    <tr>\n",
       "      <th>1</th>\n",
       "      <td>DS</td>\n",
       "      <td>DS</td>\n",
       "    </tr>\n",
       "    <tr>\n",
       "      <th>2</th>\n",
       "      <td>DS</td>\n",
       "      <td>WEB</td>\n",
       "    </tr>\n",
       "    <tr>\n",
       "      <th>3</th>\n",
       "      <td>DS</td>\n",
       "      <td>WEB</td>\n",
       "    </tr>\n",
       "    <tr>\n",
       "      <th>4</th>\n",
       "      <td>WEB</td>\n",
       "      <td>WEB</td>\n",
       "    </tr>\n",
       "  </tbody>\n",
       "</table>\n",
       "</div>"
      ],
      "text/plain": [
       "     0    1\n",
       "0   DS  WEB\n",
       "1   DS   DS\n",
       "2   DS  WEB\n",
       "3   DS  WEB\n",
       "4  WEB  WEB"
      ]
     },
     "execution_count": 11,
     "metadata": {},
     "output_type": "execute_result"
    }
   ],
   "source": [
    "nrows = 100_000 # set rows to number of simulations\n",
    "ncols = 2       # set columns to number of bilboards in each simulation\n",
    "\n",
    "# create an array of of values using random choice to repesent weather a given billboard is data science or web dev\n",
    "# reshabe that array into trial groups of 2\n",
    "rolls = np.random.choice([\"DS\",\"WEB\",\"WEB\",\"WEB\"], nrows * ncols).reshape(nrows, ncols)\n",
    "\n",
    "# convert to data frame\n",
    "df = pd.DataFrame(rolls)\n",
    "df.head()"
   ]
  },
  {
   "cell_type": "code",
   "execution_count": 12,
   "id": "preceding-miller",
   "metadata": {},
   "outputs": [
    {
     "name": "stdout",
     "output_type": "stream",
     "text": [
      "The odds of both billboards being Data Science are 6%\n"
     ]
    }
   ],
   "source": [
    "# create an array of True/False values that check if both values in each row are data science\n",
    "# then take the mean of that array to get the probability of driving past two data science signs\n",
    "both_ds = df.apply(lambda row: (row.values[0] == \"DS\") and (row.values[1] == \"DS\"), axis=1).mean()\n",
    "\n",
    "# print result\n",
    "print(f'The odds of both billboards being Data Science are {round(both_ds*100)}%')"
   ]
  },
  {
   "cell_type": "markdown",
   "id": "communist-lingerie",
   "metadata": {},
   "source": [
    "### 4) Codeup students buy, on average, 3 poptart packages (+- 1.5) a day from the snack vending machine. If on monday the machine is restocked with 17 poptart packages, how likely is it that I will be able to buy some poptarts on Friday afternoon?"
   ]
  },
  {
   "cell_type": "code",
   "execution_count": 13,
   "id": "adjacent-presentation",
   "metadata": {},
   "outputs": [
    {
     "data": {
      "text/html": [
       "<div>\n",
       "<style scoped>\n",
       "    .dataframe tbody tr th:only-of-type {\n",
       "        vertical-align: middle;\n",
       "    }\n",
       "\n",
       "    .dataframe tbody tr th {\n",
       "        vertical-align: top;\n",
       "    }\n",
       "\n",
       "    .dataframe thead th {\n",
       "        text-align: right;\n",
       "    }\n",
       "</style>\n",
       "<table border=\"1\" class=\"dataframe\">\n",
       "  <thead>\n",
       "    <tr style=\"text-align: right;\">\n",
       "      <th></th>\n",
       "      <th>0</th>\n",
       "      <th>1</th>\n",
       "      <th>2</th>\n",
       "      <th>3</th>\n",
       "      <th>4</th>\n",
       "    </tr>\n",
       "  </thead>\n",
       "  <tbody>\n",
       "    <tr>\n",
       "      <th>0</th>\n",
       "      <td>1</td>\n",
       "      <td>1</td>\n",
       "      <td>3</td>\n",
       "      <td>3</td>\n",
       "      <td>2</td>\n",
       "    </tr>\n",
       "    <tr>\n",
       "      <th>1</th>\n",
       "      <td>5</td>\n",
       "      <td>0</td>\n",
       "      <td>4</td>\n",
       "      <td>2</td>\n",
       "      <td>4</td>\n",
       "    </tr>\n",
       "    <tr>\n",
       "      <th>2</th>\n",
       "      <td>3</td>\n",
       "      <td>6</td>\n",
       "      <td>2</td>\n",
       "      <td>3</td>\n",
       "      <td>4</td>\n",
       "    </tr>\n",
       "    <tr>\n",
       "      <th>3</th>\n",
       "      <td>1</td>\n",
       "      <td>2</td>\n",
       "      <td>2</td>\n",
       "      <td>5</td>\n",
       "      <td>4</td>\n",
       "    </tr>\n",
       "    <tr>\n",
       "      <th>4</th>\n",
       "      <td>5</td>\n",
       "      <td>4</td>\n",
       "      <td>0</td>\n",
       "      <td>1</td>\n",
       "      <td>0</td>\n",
       "    </tr>\n",
       "  </tbody>\n",
       "</table>\n",
       "</div>"
      ],
      "text/plain": [
       "   0  1  2  3  4\n",
       "0  1  1  3  3  2\n",
       "1  5  0  4  2  4\n",
       "2  3  6  2  3  4\n",
       "3  1  2  2  5  4\n",
       "4  5  4  0  1  0"
      ]
     },
     "execution_count": 13,
     "metadata": {},
     "output_type": "execute_result"
    }
   ],
   "source": [
    "nrows = 100_000 # set rows to number of simulations\n",
    "ncols = 5       # set columns to number of days in each simulation\n",
    "\n",
    "# create an array of values using random.normal to repesent the number of PopTarts bought in a day\n",
    "# reshabe that array into trial groups of 5 to represent five days or PopTart buying\n",
    "rolls = np.random.normal(3, 1.5, nrows * ncols).astype(int).reshape(nrows, ncols)\n",
    "\n",
    "# convert to data frame\n",
    "df = pd.DataFrame(rolls)\n",
    "df.head()"
   ]
  },
  {
   "cell_type": "code",
   "execution_count": 14,
   "id": "velvet-disney",
   "metadata": {},
   "outputs": [
    {
     "name": "stdout",
     "output_type": "stream",
     "text": [
      "The odds of being able to by a PopTart in the afternoon on friday are 88%\n"
     ]
    }
   ],
   "source": [
    "# count the number of bought PopTarts in each row and create a boolean array showing weather the total number of bought PopTarts equals or exceeds 17\n",
    "# take the mean of the array to get the probability of having poptarts available to by on friday afternoon\n",
    "odds_of_tarts = df.apply(lambda row: row.values.sum() < 17, axis=1).mean()\n",
    "\n",
    "# print result\n",
    "print(f'The odds of being able to by a PopTart in the afternoon on friday are {round(odds_of_tarts*100)}%')"
   ]
  },
  {
   "cell_type": "markdown",
   "id": "valued-minneapolis",
   "metadata": {},
   "source": [
    "### 5) Men have an average height of 178 cm and standard deviation of 8cm. Women have a mean of 170, sd = 6cm. If a man and woman are chosen at random, P(woman taller than man)?"
   ]
  },
  {
   "cell_type": "code",
   "execution_count": 15,
   "id": "significant-cheese",
   "metadata": {},
   "outputs": [
    {
     "data": {
      "text/html": [
       "<div>\n",
       "<style scoped>\n",
       "    .dataframe tbody tr th:only-of-type {\n",
       "        vertical-align: middle;\n",
       "    }\n",
       "\n",
       "    .dataframe tbody tr th {\n",
       "        vertical-align: top;\n",
       "    }\n",
       "\n",
       "    .dataframe thead th {\n",
       "        text-align: right;\n",
       "    }\n",
       "</style>\n",
       "<table border=\"1\" class=\"dataframe\">\n",
       "  <thead>\n",
       "    <tr style=\"text-align: right;\">\n",
       "      <th></th>\n",
       "      <th>male_hights</th>\n",
       "      <th>female_hights</th>\n",
       "      <th>female_is_taller</th>\n",
       "    </tr>\n",
       "  </thead>\n",
       "  <tbody>\n",
       "    <tr>\n",
       "      <th>0</th>\n",
       "      <td>185.853947</td>\n",
       "      <td>162.864074</td>\n",
       "      <td>False</td>\n",
       "    </tr>\n",
       "    <tr>\n",
       "      <th>1</th>\n",
       "      <td>165.722227</td>\n",
       "      <td>165.467049</td>\n",
       "      <td>False</td>\n",
       "    </tr>\n",
       "    <tr>\n",
       "      <th>2</th>\n",
       "      <td>189.815136</td>\n",
       "      <td>165.697561</td>\n",
       "      <td>False</td>\n",
       "    </tr>\n",
       "    <tr>\n",
       "      <th>3</th>\n",
       "      <td>172.094877</td>\n",
       "      <td>161.342780</td>\n",
       "      <td>False</td>\n",
       "    </tr>\n",
       "    <tr>\n",
       "      <th>4</th>\n",
       "      <td>193.587365</td>\n",
       "      <td>174.974431</td>\n",
       "      <td>False</td>\n",
       "    </tr>\n",
       "    <tr>\n",
       "      <th>...</th>\n",
       "      <td>...</td>\n",
       "      <td>...</td>\n",
       "      <td>...</td>\n",
       "    </tr>\n",
       "    <tr>\n",
       "      <th>99995</th>\n",
       "      <td>162.960371</td>\n",
       "      <td>164.046187</td>\n",
       "      <td>True</td>\n",
       "    </tr>\n",
       "    <tr>\n",
       "      <th>99996</th>\n",
       "      <td>180.960672</td>\n",
       "      <td>168.706227</td>\n",
       "      <td>False</td>\n",
       "    </tr>\n",
       "    <tr>\n",
       "      <th>99997</th>\n",
       "      <td>175.339486</td>\n",
       "      <td>176.517374</td>\n",
       "      <td>True</td>\n",
       "    </tr>\n",
       "    <tr>\n",
       "      <th>99998</th>\n",
       "      <td>183.332250</td>\n",
       "      <td>177.285055</td>\n",
       "      <td>False</td>\n",
       "    </tr>\n",
       "    <tr>\n",
       "      <th>99999</th>\n",
       "      <td>178.098415</td>\n",
       "      <td>169.266398</td>\n",
       "      <td>False</td>\n",
       "    </tr>\n",
       "  </tbody>\n",
       "</table>\n",
       "<p>100000 rows × 3 columns</p>\n",
       "</div>"
      ],
      "text/plain": [
       "       male_hights  female_hights  female_is_taller\n",
       "0       185.853947     162.864074             False\n",
       "1       165.722227     165.467049             False\n",
       "2       189.815136     165.697561             False\n",
       "3       172.094877     161.342780             False\n",
       "4       193.587365     174.974431             False\n",
       "...            ...            ...               ...\n",
       "99995   162.960371     164.046187              True\n",
       "99996   180.960672     168.706227             False\n",
       "99997   175.339486     176.517374              True\n",
       "99998   183.332250     177.285055             False\n",
       "99999   178.098415     169.266398             False\n",
       "\n",
       "[100000 rows x 3 columns]"
      ]
     },
     "execution_count": 15,
     "metadata": {},
     "output_type": "execute_result"
    }
   ],
   "source": [
    "# use random.normal to create arrays representing male and female hights chosen at random\n",
    "male_hights = np.random.normal(178, 8, 100_000)\n",
    "female_hights = np.random.normal(170, 6, 100_000)\n",
    "\n",
    "# convert the arrays to a to single dataframe where each row reprsents a female and male hight chosen at random\n",
    "df = pd.DataFrame({\"male_hights\" : male_hights,\n",
    "                   \"female_hights\" : female_hights})\n",
    "\n",
    "# add boolean column showing true if the female hight is greater in each row (trial)\n",
    "df['female_is_taller'] = df.female_hights > df.male_hights\n",
    "df"
   ]
  },
  {
   "cell_type": "code",
   "execution_count": 16,
   "id": "beautiful-switch",
   "metadata": {},
   "outputs": [
    {
     "name": "stdout",
     "output_type": "stream",
     "text": [
      "The probability of a woman, chosen at random, being taller than a man, chosen at random is 21%\n"
     ]
    }
   ],
   "source": [
    "# get mean of that column\n",
    "taller_female = df['female_is_taller'].mean()\n",
    "\n",
    "# print results\n",
    "print(f\"The probability of a woman, chosen at random, being taller than a man, chosen at random is {round(taller_female*100)}%\")"
   ]
  },
  {
   "cell_type": "markdown",
   "id": "cultural-egyptian",
   "metadata": {},
   "source": [
    "### 6) When installing anaconda on a student's computer, there's a 1 in 250 chance that the download is corrupted and the installation fails.\n",
    "\n",
    "### a) What are the odds that after having 50 students download anaconda, no one has an installation issue? 100 students?\n",
    "\n",
    "### b) What is the probability that we observe an installation issue within the first 150 students that download anaconda?\n",
    "\n",
    "### c) How likely is it that 450 students all download anaconda without an issue?"
   ]
  },
  {
   "cell_type": "code",
   "execution_count": 17,
   "id": "concrete-peace",
   "metadata": {},
   "outputs": [
    {
     "data": {
      "text/html": [
       "<div>\n",
       "<style scoped>\n",
       "    .dataframe tbody tr th:only-of-type {\n",
       "        vertical-align: middle;\n",
       "    }\n",
       "\n",
       "    .dataframe tbody tr th {\n",
       "        vertical-align: top;\n",
       "    }\n",
       "\n",
       "    .dataframe thead th {\n",
       "        text-align: right;\n",
       "    }\n",
       "</style>\n",
       "<table border=\"1\" class=\"dataframe\">\n",
       "  <thead>\n",
       "    <tr style=\"text-align: right;\">\n",
       "      <th></th>\n",
       "      <th>0</th>\n",
       "      <th>1</th>\n",
       "      <th>2</th>\n",
       "      <th>3</th>\n",
       "      <th>4</th>\n",
       "      <th>5</th>\n",
       "      <th>6</th>\n",
       "      <th>7</th>\n",
       "      <th>8</th>\n",
       "      <th>9</th>\n",
       "      <th>...</th>\n",
       "      <th>40</th>\n",
       "      <th>41</th>\n",
       "      <th>42</th>\n",
       "      <th>43</th>\n",
       "      <th>44</th>\n",
       "      <th>45</th>\n",
       "      <th>46</th>\n",
       "      <th>47</th>\n",
       "      <th>48</th>\n",
       "      <th>49</th>\n",
       "    </tr>\n",
       "  </thead>\n",
       "  <tbody>\n",
       "    <tr>\n",
       "      <th>0</th>\n",
       "      <td>False</td>\n",
       "      <td>False</td>\n",
       "      <td>False</td>\n",
       "      <td>False</td>\n",
       "      <td>False</td>\n",
       "      <td>False</td>\n",
       "      <td>False</td>\n",
       "      <td>False</td>\n",
       "      <td>False</td>\n",
       "      <td>False</td>\n",
       "      <td>...</td>\n",
       "      <td>False</td>\n",
       "      <td>False</td>\n",
       "      <td>False</td>\n",
       "      <td>False</td>\n",
       "      <td>False</td>\n",
       "      <td>False</td>\n",
       "      <td>False</td>\n",
       "      <td>False</td>\n",
       "      <td>False</td>\n",
       "      <td>False</td>\n",
       "    </tr>\n",
       "    <tr>\n",
       "      <th>1</th>\n",
       "      <td>False</td>\n",
       "      <td>False</td>\n",
       "      <td>False</td>\n",
       "      <td>False</td>\n",
       "      <td>False</td>\n",
       "      <td>False</td>\n",
       "      <td>False</td>\n",
       "      <td>False</td>\n",
       "      <td>False</td>\n",
       "      <td>False</td>\n",
       "      <td>...</td>\n",
       "      <td>False</td>\n",
       "      <td>False</td>\n",
       "      <td>False</td>\n",
       "      <td>False</td>\n",
       "      <td>False</td>\n",
       "      <td>False</td>\n",
       "      <td>False</td>\n",
       "      <td>False</td>\n",
       "      <td>False</td>\n",
       "      <td>False</td>\n",
       "    </tr>\n",
       "    <tr>\n",
       "      <th>2</th>\n",
       "      <td>False</td>\n",
       "      <td>False</td>\n",
       "      <td>False</td>\n",
       "      <td>False</td>\n",
       "      <td>False</td>\n",
       "      <td>False</td>\n",
       "      <td>False</td>\n",
       "      <td>False</td>\n",
       "      <td>False</td>\n",
       "      <td>False</td>\n",
       "      <td>...</td>\n",
       "      <td>False</td>\n",
       "      <td>False</td>\n",
       "      <td>False</td>\n",
       "      <td>False</td>\n",
       "      <td>False</td>\n",
       "      <td>False</td>\n",
       "      <td>False</td>\n",
       "      <td>False</td>\n",
       "      <td>False</td>\n",
       "      <td>False</td>\n",
       "    </tr>\n",
       "    <tr>\n",
       "      <th>3</th>\n",
       "      <td>False</td>\n",
       "      <td>False</td>\n",
       "      <td>False</td>\n",
       "      <td>False</td>\n",
       "      <td>False</td>\n",
       "      <td>False</td>\n",
       "      <td>False</td>\n",
       "      <td>False</td>\n",
       "      <td>False</td>\n",
       "      <td>False</td>\n",
       "      <td>...</td>\n",
       "      <td>False</td>\n",
       "      <td>False</td>\n",
       "      <td>False</td>\n",
       "      <td>False</td>\n",
       "      <td>False</td>\n",
       "      <td>False</td>\n",
       "      <td>False</td>\n",
       "      <td>False</td>\n",
       "      <td>False</td>\n",
       "      <td>False</td>\n",
       "    </tr>\n",
       "    <tr>\n",
       "      <th>4</th>\n",
       "      <td>False</td>\n",
       "      <td>False</td>\n",
       "      <td>False</td>\n",
       "      <td>False</td>\n",
       "      <td>False</td>\n",
       "      <td>False</td>\n",
       "      <td>False</td>\n",
       "      <td>False</td>\n",
       "      <td>False</td>\n",
       "      <td>False</td>\n",
       "      <td>...</td>\n",
       "      <td>False</td>\n",
       "      <td>False</td>\n",
       "      <td>False</td>\n",
       "      <td>False</td>\n",
       "      <td>False</td>\n",
       "      <td>False</td>\n",
       "      <td>False</td>\n",
       "      <td>False</td>\n",
       "      <td>False</td>\n",
       "      <td>False</td>\n",
       "    </tr>\n",
       "  </tbody>\n",
       "</table>\n",
       "<p>5 rows × 50 columns</p>\n",
       "</div>"
      ],
      "text/plain": [
       "      0      1      2      3      4      5      6      7      8      9   ...  \\\n",
       "0  False  False  False  False  False  False  False  False  False  False  ...   \n",
       "1  False  False  False  False  False  False  False  False  False  False  ...   \n",
       "2  False  False  False  False  False  False  False  False  False  False  ...   \n",
       "3  False  False  False  False  False  False  False  False  False  False  ...   \n",
       "4  False  False  False  False  False  False  False  False  False  False  ...   \n",
       "\n",
       "      40     41     42     43     44     45     46     47     48     49  \n",
       "0  False  False  False  False  False  False  False  False  False  False  \n",
       "1  False  False  False  False  False  False  False  False  False  False  \n",
       "2  False  False  False  False  False  False  False  False  False  False  \n",
       "3  False  False  False  False  False  False  False  False  False  False  \n",
       "4  False  False  False  False  False  False  False  False  False  False  \n",
       "\n",
       "[5 rows x 50 columns]"
      ]
     },
     "execution_count": 17,
     "metadata": {},
     "output_type": "execute_result"
    }
   ],
   "source": [
    "nrows = 100_000 # set rows to number of simulations\n",
    "ncols = 50      # set columns to number of students in each simulation\n",
    "\n",
    "# create list with 249 falses and one true\n",
    "issue_range = [False for r in range(1,250)]\n",
    "issue_range.append(True)\n",
    "\n",
    "# use random.choice to create an array representing whether there was an issue with a given student's Anaconda install\n",
    "# reshape the dataframe into trial groups of the desiered number of students\n",
    "installs = np.random.choice(issue_range, nrows * ncols).reshape(nrows, ncols)\n",
    "\n",
    "# convert to data frame\n",
    "df = pd.DataFrame(installs)\n",
    "df.head()"
   ]
  },
  {
   "cell_type": "code",
   "execution_count": 18,
   "id": "lesbian-cloud",
   "metadata": {},
   "outputs": [
    {
     "name": "stdout",
     "output_type": "stream",
     "text": [
      "The odds of 50 students dowloading Anaconda without a problem are 82%\n"
     ]
    }
   ],
   "source": [
    "# Sum the number of True values in each row (trial) \n",
    "# create a boolian array that shows true for each row (trial) that had more than zero Trues\n",
    "# Take the mean of that array\n",
    "has_problem = df.apply(lambda row: row.values.sum() == 0, axis=1).mean()\n",
    "\n",
    "\n",
    "print(f'The odds of 50 students dowloading Anaconda without a problem are {round(has_problem*100)}%')"
   ]
  },
  {
   "cell_type": "code",
   "execution_count": 19,
   "id": "enormous-novel",
   "metadata": {},
   "outputs": [],
   "source": [
    "def anaconda_problem(number_of_students):\n",
    "    \n",
    "    nrows = 100_000 # set rows to number of simulations\n",
    "    ncols = number_of_students # set columns to number of students in each simulation\n",
    "\n",
    "    # create list with 249 falses and one true\n",
    "    issue_range = [False for r in range(1,250)]\n",
    "    issue_range.append(True)\n",
    "\n",
    "    # use random.choice to create an arrepresenting whether there was an issue with a given student's Anaconda install\n",
    "    # reshape the dataframe into trial groups of the desiered number of students\n",
    "    installs = np.random.choice(issue_range, nrows * ncols).reshape(nrows, ncols)\n",
    "\n",
    "    # convert to data frame\n",
    "    df = pd.DataFrame(installs)\n",
    "\n",
    "    # Sum the number of True values in each row (trial) \n",
    "    # create a boolian array that shows true for each row (trial) that had no Trues\n",
    "    # Take the mean of that array to get the odds of not encountering any problems in the trial group\n",
    "    no_problems = df.apply(lambda row: row.values.sum() == 0, axis=1).mean()\n",
    "    \n",
    "    # Sum the number of True values in each row (trial) \n",
    "    # create a boolian array that shows true for each row (trial) that had no Trues\n",
    "    # Take the mean of that array to get the odds encountering any problems in the trial group\n",
    "    problems = df.apply(lambda row: row.values.sum() > 0, axis=1).mean()\n",
    "\n",
    "    print(f'The odds of {number_of_students} students downloading Anaconda without a problem are {round(no_problems*100)}%')\n",
    "    print(f'The odds of {number_of_students} students downloading Anaconda encountering at least one problem are {round(problems*100)}%')"
   ]
  },
  {
   "cell_type": "code",
   "execution_count": 20,
   "id": "silent-sphere",
   "metadata": {},
   "outputs": [
    {
     "name": "stdout",
     "output_type": "stream",
     "text": [
      "The odds of 50 students downloading Anaconda without a problem are 82%\n",
      "The odds of 50 students downloading Anaconda encountering at least one problem are 18%\n"
     ]
    }
   ],
   "source": [
    "anaconda_problem(50)"
   ]
  },
  {
   "cell_type": "code",
   "execution_count": 21,
   "id": "egyptian-spider",
   "metadata": {},
   "outputs": [
    {
     "name": "stdout",
     "output_type": "stream",
     "text": [
      "The odds of 100 students downloading Anaconda without a problem are 67%\n",
      "The odds of 100 students downloading Anaconda encountering at least one problem are 33%\n"
     ]
    }
   ],
   "source": [
    "anaconda_problem(100)"
   ]
  },
  {
   "cell_type": "code",
   "execution_count": 22,
   "id": "senior-means",
   "metadata": {},
   "outputs": [
    {
     "name": "stdout",
     "output_type": "stream",
     "text": [
      "The odds of 150 students downloading Anaconda without a problem are 55%\n",
      "The odds of 150 students downloading Anaconda encountering at least one problem are 45%\n"
     ]
    }
   ],
   "source": [
    "anaconda_problem(150)"
   ]
  },
  {
   "cell_type": "code",
   "execution_count": 23,
   "id": "similar-resident",
   "metadata": {},
   "outputs": [
    {
     "name": "stdout",
     "output_type": "stream",
     "text": [
      "The odds of 450 students downloading Anaconda without a problem are 17%\n",
      "The odds of 450 students downloading Anaconda encountering at least one problem are 83%\n"
     ]
    }
   ],
   "source": [
    "anaconda_problem(450)"
   ]
  },
  {
   "cell_type": "markdown",
   "id": "orange-baltimore",
   "metadata": {},
   "source": [
    "### 6) There's a 70% chance on any given day that there will be at least one food truck at Travis Park. However, you haven't seen a food truck there in 3 days. How unlikely is this?\n",
    "\n",
    "### 7) How likely is it that a food truck will show up sometime this week?"
   ]
  },
  {
   "cell_type": "code",
   "execution_count": 24,
   "id": "stainless-trinidad",
   "metadata": {},
   "outputs": [],
   "source": [
    "def food_truck(days):\n",
    "    \n",
    "    # Remaining week days\n",
    "    nrows = 100_000 # set rows to number of simulations\n",
    "    ncols = days      # set columns to number of days in each simulation\n",
    "\n",
    "    # create array with each value representing if a food truck has been spotted that day\n",
    "    # reshape the array into trial groups of the desiered number of days\n",
    "    sightings = np.random.choice([True, False], nrows * ncols, p=[.7,.3]).reshape(nrows, ncols)\n",
    "\n",
    "    # convert to data frame\n",
    "    df = pd.DataFrame(sightings)\n",
    "\n",
    "    # Sum the number of True values in each row (trial) \n",
    "    # create a boolian array that shows true for each row (trial) that had no Trues\n",
    "    # Take the mean of that array to get the odds of not encountering any trucks in the specified number of days\n",
    "    no_truck = df.apply(lambda row: row.values.sum() == 0, axis=1).mean()\n",
    "    \n",
    "    # Sum the number of True values in each row (trial) \n",
    "    # create a boolian array that shows true for each row (trial) that had no Trues\n",
    "    # Take the mean of that array to get the odds spotting at least one tuck in the desiered number of days\n",
    "    truck = df.apply(lambda row: row.values.sum() > 0, axis=1).mean()\n",
    "\n",
    "    print(f'The odds of not seeing a food truck in Travis Park for {days} days is {round(no_truck*100)}%')\n",
    "    print(f'The odds of seeing at least one food truck in Travis Park in {days} days is {round(truck*100)}%')"
   ]
  },
  {
   "cell_type": "code",
   "execution_count": 25,
   "id": "retired-scotland",
   "metadata": {},
   "outputs": [
    {
     "name": "stdout",
     "output_type": "stream",
     "text": [
      "The odds of not seeing a food truck in Travis Park for 1 days is 30%\n",
      "The odds of seeing at least one food truck in Travis Park in 1 days is 70%\n",
      "\n",
      "The odds of not seeing a food truck in Travis Park for 2 days is 9%\n",
      "The odds of seeing at least one food truck in Travis Park in 2 days is 91%\n",
      "\n",
      "The odds of not seeing a food truck in Travis Park for 3 days is 3%\n",
      "The odds of seeing at least one food truck in Travis Park in 3 days is 97%\n",
      "\n",
      "The odds of not seeing a food truck in Travis Park for 4 days is 1%\n",
      "The odds of seeing at least one food truck in Travis Park in 4 days is 99%\n",
      "\n",
      "The odds of not seeing a food truck in Travis Park for 5 days is 0%\n",
      "The odds of seeing at least one food truck in Travis Park in 5 days is 100%\n",
      "\n",
      "The odds of not seeing a food truck in Travis Park for 6 days is 0%\n",
      "The odds of seeing at least one food truck in Travis Park in 6 days is 100%\n",
      "\n",
      "The odds of not seeing a food truck in Travis Park for 7 days is 0%\n",
      "The odds of seeing at least one food truck in Travis Park in 7 days is 100%\n",
      "\n"
     ]
    }
   ],
   "source": [
    "for r in range(1,8):\n",
    "    food_truck(r)\n",
    "    print()"
   ]
  },
  {
   "cell_type": "markdown",
   "id": "chief-agriculture",
   "metadata": {},
   "source": [
    "### 8) If 23 people are in the same room, what are the odds that two of them share a birthday? What if it's 20 people? 40?"
   ]
  },
  {
   "cell_type": "code",
   "execution_count": 26,
   "id": "sound-amendment",
   "metadata": {},
   "outputs": [],
   "source": [
    "def shared_birthday(people):\n",
    "\n",
    "    nrows = 100_000 # set rows to number of simulations\n",
    "    ncols = people  # set columns to number of people in each simulation\n",
    "\n",
    "    # create array with each value representing the numbered day of the year that person was born on. (This ignores leap years)\n",
    "    # reshape the aray into trial groups\n",
    "    sightings = np.random.choice([r for r in range(366)], nrows * ncols).reshape(nrows, ncols)\n",
    "\n",
    "    # convert to data frame\n",
    "    df = pd.DataFrame(sightings)\n",
    "\n",
    "    # Add boolian column to df showing weather there are less unique numbers in each row (trial) than there are total columns\n",
    "    df['matching_birthdays'] = df.nunique(axis=1) < ncols\n",
    "\n",
    "    # get mean of calculation True/False columns\n",
    "    # format and print results\n",
    "    matching_birthdays = df['matching_birthdays'].mean()\n",
    "\n",
    "    # print result\n",
    "    print(f'The odds of a room of {ncols} people having at least two people that share a birthday are {round(matching_birthdays*100)}%')"
   ]
  },
  {
   "cell_type": "code",
   "execution_count": 27,
   "id": "suffering-lotus",
   "metadata": {},
   "outputs": [
    {
     "name": "stdout",
     "output_type": "stream",
     "text": [
      "The odds of a room of 23 people having at least two people that share a birthday are 51%\n",
      "The odds of a room of 20 people having at least two people that share a birthday are 41%\n",
      "The odds of a room of 40 people having at least two people that share a birthday are 89%\n"
     ]
    }
   ],
   "source": [
    "num_list = [23, 20, 40]\n",
    "\n",
    "for num in num_list:\n",
    "    shared_birthday(num)"
   ]
  },
  {
   "cell_type": "code",
   "execution_count": null,
   "id": "increasing-transport",
   "metadata": {},
   "outputs": [],
   "source": []
  }
 ],
 "metadata": {
  "kernelspec": {
   "display_name": "Python 3",
   "language": "python",
   "name": "python3"
  },
  "language_info": {
   "codemirror_mode": {
    "name": "ipython",
    "version": 3
   },
   "file_extension": ".py",
   "mimetype": "text/x-python",
   "name": "python",
   "nbconvert_exporter": "python",
   "pygments_lexer": "ipython3",
   "version": "3.7.4"
  }
 },
 "nbformat": 4,
 "nbformat_minor": 5
}
