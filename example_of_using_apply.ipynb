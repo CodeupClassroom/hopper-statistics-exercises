{
 "cells": [
  {
   "cell_type": "code",
   "execution_count": 1,
   "id": "bfedf53a",
   "metadata": {},
   "outputs": [],
   "source": [
    "import pandas as pd\n",
    "import numpy as np"
   ]
  },
  {
   "cell_type": "markdown",
   "id": "5b15727d",
   "metadata": {},
   "source": [
    "# Example Challenge\n",
    "- Let's roll 3 dice at a time.\n",
    "- And setup some questions"
   ]
  },
  {
   "cell_type": "code",
   "execution_count": 17,
   "id": "62bb8f06",
   "metadata": {},
   "outputs": [
    {
     "data": {
      "text/html": [
       "<div>\n",
       "<style scoped>\n",
       "    .dataframe tbody tr th:only-of-type {\n",
       "        vertical-align: middle;\n",
       "    }\n",
       "\n",
       "    .dataframe tbody tr th {\n",
       "        vertical-align: top;\n",
       "    }\n",
       "\n",
       "    .dataframe thead th {\n",
       "        text-align: right;\n",
       "    }\n",
       "</style>\n",
       "<table border=\"1\" class=\"dataframe\">\n",
       "  <thead>\n",
       "    <tr style=\"text-align: right;\">\n",
       "      <th></th>\n",
       "      <th>die1</th>\n",
       "      <th>die2</th>\n",
       "      <th>die3</th>\n",
       "    </tr>\n",
       "  </thead>\n",
       "  <tbody>\n",
       "    <tr>\n",
       "      <th>0</th>\n",
       "      <td>5</td>\n",
       "      <td>3</td>\n",
       "      <td>2</td>\n",
       "    </tr>\n",
       "    <tr>\n",
       "      <th>1</th>\n",
       "      <td>2</td>\n",
       "      <td>2</td>\n",
       "      <td>5</td>\n",
       "    </tr>\n",
       "    <tr>\n",
       "      <th>2</th>\n",
       "      <td>6</td>\n",
       "      <td>4</td>\n",
       "      <td>4</td>\n",
       "    </tr>\n",
       "    <tr>\n",
       "      <th>3</th>\n",
       "      <td>1</td>\n",
       "      <td>4</td>\n",
       "      <td>2</td>\n",
       "    </tr>\n",
       "    <tr>\n",
       "      <th>4</th>\n",
       "      <td>2</td>\n",
       "      <td>4</td>\n",
       "      <td>3</td>\n",
       "    </tr>\n",
       "  </tbody>\n",
       "</table>\n",
       "</div>"
      ],
      "text/plain": [
       "   die1  die2  die3\n",
       "0     5     3     2\n",
       "1     2     2     5\n",
       "2     6     4     4\n",
       "3     1     4     2\n",
       "4     2     4     3"
      ]
     },
     "execution_count": 17,
     "metadata": {},
     "output_type": "execute_result"
    }
   ],
   "source": [
    "n_trials = 100_000\n",
    "n_dice = 3\n",
    "\n",
    "rolls = np.random.choice([1, 2, 3, 4, 5, 6], size=(n_trials, n_dice))\n",
    "rolls = pd.DataFrame(rolls)\n",
    "rolls.columns = [\"die1\", \"die2\", \"die3\"]\n",
    "rolls.head()"
   ]
  },
  {
   "cell_type": "code",
   "execution_count": 18,
   "id": "1775ef5f",
   "metadata": {},
   "outputs": [
    {
     "data": {
      "text/plain": [
       "0.0046296296296296285"
      ]
     },
     "execution_count": 18,
     "metadata": {},
     "output_type": "execute_result"
    }
   ],
   "source": [
    "# Chances of rolling all 3 of the same number\n",
    "(1/6)**3"
   ]
  },
  {
   "cell_type": "code",
   "execution_count": 26,
   "id": "2be333b4",
   "metadata": {},
   "outputs": [
    {
     "data": {
      "text/plain": [
       "0.02777777777777777"
      ]
     },
     "execution_count": 26,
     "metadata": {},
     "output_type": "execute_result"
    }
   ],
   "source": [
    "# chances of rolling 1, 1, 1 plus chances of rolling 2, 2, 2 ...\n",
    "((1/6) ** 3) * 6"
   ]
  },
  {
   "cell_type": "code",
   "execution_count": 21,
   "id": "1a9fa52e",
   "metadata": {},
   "outputs": [
    {
     "data": {
      "text/plain": [
       "0.02778"
      ]
     },
     "execution_count": 21,
     "metadata": {},
     "output_type": "execute_result"
    }
   ],
   "source": [
    "# what are the chances we roll triplets?\n",
    "# if the values in column1 match column2 match column3, then True for that row\n",
    "# example: [1, 1, 1] should give us a triple, [2, 2, 2] gives us a triple\n",
    "\n",
    "die1_2_match = (rolls.die1 == rolls.die2)\n",
    "die2_3_match = (rolls.die2 == rolls.die3)\n",
    "\n",
    "rolls[\"all_match\"] = (die1_2_match & die2_3_match)\n",
    "rolls.all_match.mean()"
   ]
  },
  {
   "cell_type": "code",
   "execution_count": 25,
   "id": "a6f1754e",
   "metadata": {},
   "outputs": [
    {
     "data": {
      "text/plain": [
       "0.00479"
      ]
     },
     "execution_count": 25,
     "metadata": {},
     "output_type": "execute_result"
    }
   ],
   "source": [
    "# What are the chances of rolling all 3s?\n",
    "((rolls.die1 == 3) & (rolls.die2 == 3) & (rolls.die3 == 3)).mean()"
   ]
  },
  {
   "cell_type": "code",
   "execution_count": 27,
   "id": "aef5582e",
   "metadata": {},
   "outputs": [
    {
     "data": {
      "text/html": [
       "<div>\n",
       "<style scoped>\n",
       "    .dataframe tbody tr th:only-of-type {\n",
       "        vertical-align: middle;\n",
       "    }\n",
       "\n",
       "    .dataframe tbody tr th {\n",
       "        vertical-align: top;\n",
       "    }\n",
       "\n",
       "    .dataframe thead th {\n",
       "        text-align: right;\n",
       "    }\n",
       "</style>\n",
       "<table border=\"1\" class=\"dataframe\">\n",
       "  <thead>\n",
       "    <tr style=\"text-align: right;\">\n",
       "      <th></th>\n",
       "      <th>die1</th>\n",
       "      <th>die2</th>\n",
       "      <th>die3</th>\n",
       "      <th>all_match</th>\n",
       "    </tr>\n",
       "  </thead>\n",
       "  <tbody>\n",
       "    <tr>\n",
       "      <th>0</th>\n",
       "      <td>5</td>\n",
       "      <td>3</td>\n",
       "      <td>2</td>\n",
       "      <td>False</td>\n",
       "    </tr>\n",
       "    <tr>\n",
       "      <th>1</th>\n",
       "      <td>2</td>\n",
       "      <td>2</td>\n",
       "      <td>5</td>\n",
       "      <td>False</td>\n",
       "    </tr>\n",
       "    <tr>\n",
       "      <th>2</th>\n",
       "      <td>6</td>\n",
       "      <td>4</td>\n",
       "      <td>4</td>\n",
       "      <td>False</td>\n",
       "    </tr>\n",
       "    <tr>\n",
       "      <th>3</th>\n",
       "      <td>1</td>\n",
       "      <td>4</td>\n",
       "      <td>2</td>\n",
       "      <td>False</td>\n",
       "    </tr>\n",
       "    <tr>\n",
       "      <th>4</th>\n",
       "      <td>2</td>\n",
       "      <td>4</td>\n",
       "      <td>3</td>\n",
       "      <td>False</td>\n",
       "    </tr>\n",
       "  </tbody>\n",
       "</table>\n",
       "</div>"
      ],
      "text/plain": [
       "   die1  die2  die3  all_match\n",
       "0     5     3     2      False\n",
       "1     2     2     5      False\n",
       "2     6     4     4      False\n",
       "3     1     4     2      False\n",
       "4     2     4     3      False"
      ]
     },
     "execution_count": 27,
     "metadata": {},
     "output_type": "execute_result"
    }
   ],
   "source": [
    "rolls.head()"
   ]
  },
  {
   "cell_type": "code",
   "execution_count": 31,
   "id": "a536a11c",
   "metadata": {},
   "outputs": [
    {
     "data": {
      "text/plain": [
       "0.04552"
      ]
     },
     "execution_count": 31,
     "metadata": {},
     "output_type": "execute_result"
    }
   ],
   "source": [
    "# What are our chances of rolling a 15 or above on 3 dice\n",
    "((rolls.die1 + rolls.die2 + rolls.die3) > 15).mean()"
   ]
  },
  {
   "cell_type": "code",
   "execution_count": null,
   "id": "790ef0b6",
   "metadata": {},
   "outputs": [],
   "source": [
    "rolls = rolls.drop(columns=\"all_match\")"
   ]
  },
  {
   "cell_type": "code",
   "execution_count": 33,
   "id": "43a858d8",
   "metadata": {},
   "outputs": [
    {
     "data": {
      "text/html": [
       "<div>\n",
       "<style scoped>\n",
       "    .dataframe tbody tr th:only-of-type {\n",
       "        vertical-align: middle;\n",
       "    }\n",
       "\n",
       "    .dataframe tbody tr th {\n",
       "        vertical-align: top;\n",
       "    }\n",
       "\n",
       "    .dataframe thead th {\n",
       "        text-align: right;\n",
       "    }\n",
       "</style>\n",
       "<table border=\"1\" class=\"dataframe\">\n",
       "  <thead>\n",
       "    <tr style=\"text-align: right;\">\n",
       "      <th></th>\n",
       "      <th>die1</th>\n",
       "      <th>die2</th>\n",
       "      <th>die3</th>\n",
       "    </tr>\n",
       "  </thead>\n",
       "  <tbody>\n",
       "    <tr>\n",
       "      <th>0</th>\n",
       "      <td>5</td>\n",
       "      <td>3</td>\n",
       "      <td>2</td>\n",
       "    </tr>\n",
       "    <tr>\n",
       "      <th>1</th>\n",
       "      <td>2</td>\n",
       "      <td>2</td>\n",
       "      <td>5</td>\n",
       "    </tr>\n",
       "    <tr>\n",
       "      <th>2</th>\n",
       "      <td>6</td>\n",
       "      <td>4</td>\n",
       "      <td>4</td>\n",
       "    </tr>\n",
       "    <tr>\n",
       "      <th>3</th>\n",
       "      <td>1</td>\n",
       "      <td>4</td>\n",
       "      <td>2</td>\n",
       "    </tr>\n",
       "    <tr>\n",
       "      <th>4</th>\n",
       "      <td>2</td>\n",
       "      <td>4</td>\n",
       "      <td>3</td>\n",
       "    </tr>\n",
       "  </tbody>\n",
       "</table>\n",
       "</div>"
      ],
      "text/plain": [
       "   die1  die2  die3\n",
       "0     5     3     2\n",
       "1     2     2     5\n",
       "2     6     4     4\n",
       "3     1     4     2\n",
       "4     2     4     3"
      ]
     },
     "execution_count": 33,
     "metadata": {},
     "output_type": "execute_result"
    }
   ],
   "source": [
    "rolls.head()"
   ]
  },
  {
   "cell_type": "code",
   "execution_count": 34,
   "id": "8750dad1",
   "metadata": {},
   "outputs": [
    {
     "data": {
      "text/plain": [
       "0        10\n",
       "1         9\n",
       "2        14\n",
       "3         7\n",
       "4         9\n",
       "         ..\n",
       "99995     7\n",
       "99996     6\n",
       "99997    12\n",
       "99998    10\n",
       "99999    11\n",
       "Length: 100000, dtype: int64"
      ]
     },
     "execution_count": 34,
     "metadata": {},
     "output_type": "execute_result"
    }
   ],
   "source": [
    "# Each row is a trial, we're running 100k trials\n",
    "# To sum a row, we use .sum() and set axis=1\n",
    "# axis=0 is the default and means column-wise\n",
    "rolls.sum(axis=1)"
   ]
  },
  {
   "cell_type": "code",
   "execution_count": 35,
   "id": "9f807183",
   "metadata": {},
   "outputs": [
    {
     "data": {
      "text/plain": [
       "0        3.333333\n",
       "1        3.000000\n",
       "2        4.666667\n",
       "3        2.333333\n",
       "4        3.000000\n",
       "           ...   \n",
       "99995    2.333333\n",
       "99996    2.000000\n",
       "99997    4.000000\n",
       "99998    3.333333\n",
       "99999    3.666667\n",
       "Length: 100000, dtype: float64"
      ]
     },
     "execution_count": 35,
     "metadata": {},
     "output_type": "execute_result"
    }
   ],
   "source": [
    "# What's the average pip per 3 dice\n",
    "rolls.mean(axis=1)"
   ]
  },
  {
   "cell_type": "code",
   "execution_count": null,
   "id": "ccb1cae1",
   "metadata": {},
   "outputs": [],
   "source": [
    "# Let's get into using .apply\n",
    "# What are the chances of rolling a sum of 15 or more on 3 dice?"
   ]
  },
  {
   "cell_type": "code",
   "execution_count": null,
   "id": "27ad75b8",
   "metadata": {},
   "outputs": [],
   "source": [
    "# blow off the idea of iterating or looping\n",
    "# Let's make a single function  built to run on a single row (and this could work w/ columns too)\n",
    "# but in this case, we're operating on a row\n",
    "\n",
    "# step 0: blow off iterating\n",
    "# step 1: write a function that runs on a single row"
   ]
  },
  {
   "cell_type": "code",
   "execution_count": 36,
   "id": "d5e1ef84",
   "metadata": {},
   "outputs": [
    {
     "data": {
      "text/html": [
       "<div>\n",
       "<style scoped>\n",
       "    .dataframe tbody tr th:only-of-type {\n",
       "        vertical-align: middle;\n",
       "    }\n",
       "\n",
       "    .dataframe tbody tr th {\n",
       "        vertical-align: top;\n",
       "    }\n",
       "\n",
       "    .dataframe thead th {\n",
       "        text-align: right;\n",
       "    }\n",
       "</style>\n",
       "<table border=\"1\" class=\"dataframe\">\n",
       "  <thead>\n",
       "    <tr style=\"text-align: right;\">\n",
       "      <th></th>\n",
       "      <th>die1</th>\n",
       "      <th>die2</th>\n",
       "      <th>die3</th>\n",
       "    </tr>\n",
       "  </thead>\n",
       "  <tbody>\n",
       "    <tr>\n",
       "      <th>0</th>\n",
       "      <td>5</td>\n",
       "      <td>3</td>\n",
       "      <td>2</td>\n",
       "    </tr>\n",
       "  </tbody>\n",
       "</table>\n",
       "</div>"
      ],
      "text/plain": [
       "   die1  die2  die3\n",
       "0     5     3     2"
      ]
     },
     "execution_count": 36,
     "metadata": {},
     "output_type": "execute_result"
    }
   ],
   "source": [
    "rolls.head(1)"
   ]
  },
  {
   "cell_type": "code",
   "execution_count": 37,
   "id": "b6e37f1e",
   "metadata": {},
   "outputs": [
    {
     "data": {
      "text/html": [
       "<div>\n",
       "<style scoped>\n",
       "    .dataframe tbody tr th:only-of-type {\n",
       "        vertical-align: middle;\n",
       "    }\n",
       "\n",
       "    .dataframe tbody tr th {\n",
       "        vertical-align: top;\n",
       "    }\n",
       "\n",
       "    .dataframe thead th {\n",
       "        text-align: right;\n",
       "    }\n",
       "</style>\n",
       "<table border=\"1\" class=\"dataframe\">\n",
       "  <thead>\n",
       "    <tr style=\"text-align: right;\">\n",
       "      <th></th>\n",
       "      <th>die1</th>\n",
       "      <th>die2</th>\n",
       "      <th>die3</th>\n",
       "    </tr>\n",
       "  </thead>\n",
       "  <tbody>\n",
       "    <tr>\n",
       "      <th>0</th>\n",
       "      <td>5</td>\n",
       "      <td>3</td>\n",
       "      <td>2</td>\n",
       "    </tr>\n",
       "  </tbody>\n",
       "</table>\n",
       "</div>"
      ],
      "text/plain": [
       "   die1  die2  die3\n",
       "0     5     3     2"
      ]
     },
     "execution_count": 37,
     "metadata": {},
     "output_type": "execute_result"
    }
   ],
   "source": [
    "rolls.iloc[0:1, ]"
   ]
  },
  {
   "cell_type": "code",
   "execution_count": 38,
   "id": "f5cb6980",
   "metadata": {},
   "outputs": [],
   "source": [
    "def sum_row(row):\n",
    "    return row.die1 + row.die2 + row.die3"
   ]
  },
  {
   "cell_type": "code",
   "execution_count": 39,
   "id": "c7a826e4",
   "metadata": {},
   "outputs": [
    {
     "data": {
      "text/plain": [
       "0    10\n",
       "dtype: int64"
      ]
     },
     "execution_count": 39,
     "metadata": {},
     "output_type": "execute_result"
    }
   ],
   "source": [
    "sum_row(rolls.iloc[0:1], )"
   ]
  },
  {
   "cell_type": "code",
   "execution_count": 41,
   "id": "fa594d57",
   "metadata": {},
   "outputs": [
    {
     "data": {
      "text/plain": [
       "0        10\n",
       "1         9\n",
       "2        14\n",
       "3         7\n",
       "4         9\n",
       "         ..\n",
       "99995     7\n",
       "99996     6\n",
       "99997    12\n",
       "99998    10\n",
       "99999    11\n",
       "Length: 100000, dtype: int64"
      ]
     },
     "execution_count": 41,
     "metadata": {},
     "output_type": "execute_result"
    }
   ],
   "source": [
    "# Step 2, use .apply\n",
    "# no axis argument defaults to axis 0 which means .apply the function to the column\n",
    "# axis=1 applies the function to each row\n",
    "rolls.apply(sum_row, axis=1)"
   ]
  },
  {
   "cell_type": "code",
   "execution_count": 42,
   "id": "6d299478",
   "metadata": {},
   "outputs": [
    {
     "data": {
      "text/plain": [
       "0.00419"
      ]
     },
     "execution_count": 42,
     "metadata": {},
     "output_type": "execute_result"
    }
   ],
   "source": [
    "# What are the chances of rolling a 1 then a 2 then a 3, in order?\n",
    "# non-apply version\n",
    "((rolls.die1 == 1) & (rolls.die2 == 2) & (rolls.die3 == 3)).mean()"
   ]
  },
  {
   "cell_type": "code",
   "execution_count": 43,
   "id": "abfcd829",
   "metadata": {},
   "outputs": [],
   "source": [
    "# But what if the problem is more row-wise?\n",
    "# If we're going to use .apply, let's remember our steps for setup\n",
    "# Step 0: blow off any idea of looping or iterating\n",
    "# Step 1: Write a single function that works on a single value\n",
    "# This value could be a single piece of data if we apply to the column\n",
    "# OR this value could be a single row of the df if we .apply to the row\n",
    "# Step 2: use .apply(function_name, axis=1)`"
   ]
  },
  {
   "cell_type": "code",
   "execution_count": 44,
   "id": "0e7f3c32",
   "metadata": {},
   "outputs": [],
   "source": [
    "# checks if a row's die1 is 1, that row's die2 is 2, that row's die3 is 3\n",
    "def example1(row):\n",
    "    return (row.die1 == 1) and (row.die2 == 2) and (row.die3 == 3)"
   ]
  },
  {
   "cell_type": "code",
   "execution_count": 45,
   "id": "b315fcc8",
   "metadata": {},
   "outputs": [
    {
     "data": {
      "text/plain": [
       "0        False\n",
       "1        False\n",
       "2        False\n",
       "3        False\n",
       "4        False\n",
       "         ...  \n",
       "99995    False\n",
       "99996    False\n",
       "99997    False\n",
       "99998    False\n",
       "99999    False\n",
       "Length: 100000, dtype: bool"
      ]
     },
     "execution_count": 45,
     "metadata": {},
     "output_type": "execute_result"
    }
   ],
   "source": [
    "rolls.apply(example1, axis=1)"
   ]
  },
  {
   "cell_type": "code",
   "execution_count": 47,
   "id": "0f42be54",
   "metadata": {},
   "outputs": [
    {
     "data": {
      "text/plain": [
       "0.09404"
      ]
     },
     "execution_count": 47,
     "metadata": {},
     "output_type": "execute_result"
    }
   ],
   "source": [
    "# What are the chances that each successive die rolls higher than the last?\n",
    "((rolls.die1 < rolls.die2) & (rolls.die2 < rolls.die3)).mean()"
   ]
  },
  {
   "cell_type": "code",
   "execution_count": null,
   "id": "3db54b8a",
   "metadata": {},
   "outputs": [],
   "source": []
  }
 ],
 "metadata": {
  "kernelspec": {
   "display_name": "Python 3",
   "language": "python",
   "name": "python3"
  },
  "language_info": {
   "codemirror_mode": {
    "name": "ipython",
    "version": 3
   },
   "file_extension": ".py",
   "mimetype": "text/x-python",
   "name": "python",
   "nbconvert_exporter": "python",
   "pygments_lexer": "ipython3",
   "version": "3.8.8"
  }
 },
 "nbformat": 4,
 "nbformat_minor": 5
}
